{
 "cells": [
  {
   "cell_type": "markdown",
   "id": "f29e912e",
   "metadata": {},
   "source": [
    "# kNN06 - Normalizer + SMOTE + RFE"
   ]
  },
  {
   "cell_type": "code",
   "execution_count": 1,
   "id": "291d4348",
   "metadata": {},
   "outputs": [],
   "source": [
    "import numpy as np\n",
    "import pandas as pd\n",
    "import sklearn\n",
    "\n",
    "#Model selection\n",
    "from sklearn.model_selection import RepeatedStratifiedKFold\n",
    "from sklearn.model_selection import GridSearchCV\n",
    "\n",
    "#Pipelines\n",
    "from imblearn.pipeline import Pipeline as imbpipeline\n",
    "\n",
    "#Balanceo de clases\n",
    "from imblearn.over_sampling import SMOTE\n",
    "from imblearn.over_sampling import BorderlineSMOTE\n",
    "\n",
    "#Preprocessing\n",
    "from sklearn.preprocessing import StandardScaler, Normalizer\n",
    "\n",
    "#Feature selection\n",
    "from sklearn.feature_selection import SelectKBest, f_classif\n",
    "from sklearn.feature_selection import RFE\n",
    "from sklearn.decomposition import PCA, KernelPCA\n",
    "\n",
    "#Classifiers\n",
    "from sklearn.svm import LinearSVC, SVC\n",
    "from sklearn.tree import DecisionTreeClassifier\n",
    "from sklearn.ensemble import RandomForestClassifier, AdaBoostClassifier, ExtraTreesClassifier\n",
    "from sklearn.neighbors import KNeighborsClassifier\n",
    "from sklearn.naive_bayes import GaussianNB\n",
    "from sklearn.linear_model import LogisticRegression\n",
    "\n",
    "#Metrics\n",
    "from sklearn.metrics import accuracy_score\n",
    "from sklearn.metrics import classification_report\n",
    "\n",
    "#Others\n",
    "from collections import Counter\n",
    "import datetime\n",
    "import warnings\n",
    "\n",
    "warnings.filterwarnings('ignore')"
   ]
  },
  {
   "cell_type": "markdown",
   "id": "d873facd",
   "metadata": {},
   "source": [
    "# Cargar datos"
   ]
  },
  {
   "cell_type": "code",
   "execution_count": 2,
   "id": "f4c871c7",
   "metadata": {},
   "outputs": [
    {
     "data": {
      "text/html": [
       "<div>\n",
       "<style scoped>\n",
       "    .dataframe tbody tr th:only-of-type {\n",
       "        vertical-align: middle;\n",
       "    }\n",
       "\n",
       "    .dataframe tbody tr th {\n",
       "        vertical-align: top;\n",
       "    }\n",
       "\n",
       "    .dataframe thead th {\n",
       "        text-align: right;\n",
       "    }\n",
       "</style>\n",
       "<table border=\"1\" class=\"dataframe\">\n",
       "  <thead>\n",
       "    <tr style=\"text-align: right;\">\n",
       "      <th></th>\n",
       "      <th>KeyT</th>\n",
       "      <th>BackT</th>\n",
       "      <th>DelT</th>\n",
       "      <th>EntT</th>\n",
       "      <th>SpbT</th>\n",
       "      <th>ClicT</th>\n",
       "      <th>LClicT</th>\n",
       "      <th>RClicT</th>\n",
       "      <th>ScrT</th>\n",
       "      <th>ScrUT</th>\n",
       "      <th>...</th>\n",
       "      <th>FloT</th>\n",
       "      <th>HRA</th>\n",
       "      <th>StpA</th>\n",
       "      <th>DistA</th>\n",
       "      <th>FloA</th>\n",
       "      <th>HRSD</th>\n",
       "      <th>StpSD</th>\n",
       "      <th>DistSD</th>\n",
       "      <th>FloSD</th>\n",
       "      <th>clase</th>\n",
       "    </tr>\n",
       "  </thead>\n",
       "  <tbody>\n",
       "    <tr>\n",
       "      <th>0</th>\n",
       "      <td>751</td>\n",
       "      <td>125</td>\n",
       "      <td>6</td>\n",
       "      <td>11</td>\n",
       "      <td>4</td>\n",
       "      <td>586</td>\n",
       "      <td>581</td>\n",
       "      <td>1</td>\n",
       "      <td>732614</td>\n",
       "      <td>282773</td>\n",
       "      <td>...</td>\n",
       "      <td>0</td>\n",
       "      <td>79.833333</td>\n",
       "      <td>1.841667</td>\n",
       "      <td>0.001322</td>\n",
       "      <td>0.000000</td>\n",
       "      <td>4.398879</td>\n",
       "      <td>6.305921</td>\n",
       "      <td>0.004527</td>\n",
       "      <td>0.000000</td>\n",
       "      <td>High</td>\n",
       "    </tr>\n",
       "    <tr>\n",
       "      <th>1</th>\n",
       "      <td>2222</td>\n",
       "      <td>236</td>\n",
       "      <td>28</td>\n",
       "      <td>46</td>\n",
       "      <td>23</td>\n",
       "      <td>706</td>\n",
       "      <td>702</td>\n",
       "      <td>4</td>\n",
       "      <td>193660</td>\n",
       "      <td>84133</td>\n",
       "      <td>...</td>\n",
       "      <td>2</td>\n",
       "      <td>75.000000</td>\n",
       "      <td>1.583333</td>\n",
       "      <td>0.001085</td>\n",
       "      <td>0.016667</td>\n",
       "      <td>5.746038</td>\n",
       "      <td>7.415160</td>\n",
       "      <td>0.005080</td>\n",
       "      <td>0.128556</td>\n",
       "      <td>Medium</td>\n",
       "    </tr>\n",
       "    <tr>\n",
       "      <th>2</th>\n",
       "      <td>1370</td>\n",
       "      <td>97</td>\n",
       "      <td>24</td>\n",
       "      <td>51</td>\n",
       "      <td>24</td>\n",
       "      <td>943</td>\n",
       "      <td>932</td>\n",
       "      <td>11</td>\n",
       "      <td>1</td>\n",
       "      <td>1</td>\n",
       "      <td>...</td>\n",
       "      <td>1</td>\n",
       "      <td>72.041667</td>\n",
       "      <td>1.116667</td>\n",
       "      <td>0.000757</td>\n",
       "      <td>0.008333</td>\n",
       "      <td>7.117732</td>\n",
       "      <td>4.348637</td>\n",
       "      <td>0.002952</td>\n",
       "      <td>0.091287</td>\n",
       "      <td>Low</td>\n",
       "    </tr>\n",
       "    <tr>\n",
       "      <th>3</th>\n",
       "      <td>4953</td>\n",
       "      <td>230</td>\n",
       "      <td>76</td>\n",
       "      <td>3052</td>\n",
       "      <td>139</td>\n",
       "      <td>508</td>\n",
       "      <td>491</td>\n",
       "      <td>7</td>\n",
       "      <td>312581</td>\n",
       "      <td>82231</td>\n",
       "      <td>...</td>\n",
       "      <td>0</td>\n",
       "      <td>80.258333</td>\n",
       "      <td>0.533333</td>\n",
       "      <td>0.000383</td>\n",
       "      <td>0.000000</td>\n",
       "      <td>5.557183</td>\n",
       "      <td>2.643951</td>\n",
       "      <td>0.001898</td>\n",
       "      <td>0.000000</td>\n",
       "      <td>High</td>\n",
       "    </tr>\n",
       "    <tr>\n",
       "      <th>4</th>\n",
       "      <td>184</td>\n",
       "      <td>35</td>\n",
       "      <td>8</td>\n",
       "      <td>10</td>\n",
       "      <td>4</td>\n",
       "      <td>225</td>\n",
       "      <td>225</td>\n",
       "      <td>0</td>\n",
       "      <td>42270</td>\n",
       "      <td>16939</td>\n",
       "      <td>...</td>\n",
       "      <td>0</td>\n",
       "      <td>100.515152</td>\n",
       "      <td>2.825000</td>\n",
       "      <td>0.002107</td>\n",
       "      <td>0.000000</td>\n",
       "      <td>10.311163</td>\n",
       "      <td>11.964698</td>\n",
       "      <td>0.008901</td>\n",
       "      <td>0.000000</td>\n",
       "      <td>High</td>\n",
       "    </tr>\n",
       "  </tbody>\n",
       "</table>\n",
       "<p>5 rows × 60 columns</p>\n",
       "</div>"
      ],
      "text/plain": [
       "   KeyT  BackT  DelT  EntT  SpbT  ClicT  LClicT  RClicT    ScrT   ScrUT  ...  \\\n",
       "0   751    125     6    11     4    586     581       1  732614  282773  ...   \n",
       "1  2222    236    28    46    23    706     702       4  193660   84133  ...   \n",
       "2  1370     97    24    51    24    943     932      11       1       1  ...   \n",
       "3  4953    230    76  3052   139    508     491       7  312581   82231  ...   \n",
       "4   184     35     8    10     4    225     225       0   42270   16939  ...   \n",
       "\n",
       "   FloT         HRA      StpA     DistA      FloA       HRSD      StpSD  \\\n",
       "0     0   79.833333  1.841667  0.001322  0.000000   4.398879   6.305921   \n",
       "1     2   75.000000  1.583333  0.001085  0.016667   5.746038   7.415160   \n",
       "2     1   72.041667  1.116667  0.000757  0.008333   7.117732   4.348637   \n",
       "3     0   80.258333  0.533333  0.000383  0.000000   5.557183   2.643951   \n",
       "4     0  100.515152  2.825000  0.002107  0.000000  10.311163  11.964698   \n",
       "\n",
       "     DistSD     FloSD   clase  \n",
       "0  0.004527  0.000000    High  \n",
       "1  0.005080  0.128556  Medium  \n",
       "2  0.002952  0.091287     Low  \n",
       "3  0.001898  0.000000    High  \n",
       "4  0.008901  0.000000    High  \n",
       "\n",
       "[5 rows x 60 columns]"
      ]
     },
     "execution_count": 2,
     "metadata": {},
     "output_type": "execute_result"
    }
   ],
   "source": [
    "ds = pd.read_csv('train.csv')\n",
    "ds.head()"
   ]
  },
  {
   "cell_type": "code",
   "execution_count": 3,
   "id": "9f6c5136",
   "metadata": {},
   "outputs": [
    {
     "name": "stdout",
     "output_type": "stream",
     "text": [
      "<class 'pandas.core.frame.DataFrame'>\n",
      "RangeIndex: 1387 entries, 0 to 1386\n",
      "Data columns (total 60 columns):\n",
      " #   Column   Non-Null Count  Dtype  \n",
      "---  ------   --------------  -----  \n",
      " 0   KeyT     1387 non-null   int64  \n",
      " 1   BackT    1387 non-null   int64  \n",
      " 2   DelT     1387 non-null   int64  \n",
      " 3   EntT     1387 non-null   int64  \n",
      " 4   SpbT     1387 non-null   int64  \n",
      " 5   ClicT    1387 non-null   int64  \n",
      " 6   LClicT   1387 non-null   int64  \n",
      " 7   RClicT   1387 non-null   int64  \n",
      " 8   ScrT     1387 non-null   int64  \n",
      " 9   ScrUT    1387 non-null   int64  \n",
      " 10  ScrDT    1387 non-null   int64  \n",
      " 11  PixT     1387 non-null   int64  \n",
      " 12  WinT     1387 non-null   int64  \n",
      " 13  ChgeT    1387 non-null   int64  \n",
      " 14  KeyA     1387 non-null   float64\n",
      " 15  BackA    1387 non-null   float64\n",
      " 16  DelA     1387 non-null   float64\n",
      " 17  EntA     1387 non-null   float64\n",
      " 18  SpbA     1387 non-null   float64\n",
      " 19  ClicA    1387 non-null   float64\n",
      " 20  LClicA   1387 non-null   float64\n",
      " 21  RClicA   1387 non-null   float64\n",
      " 22  ScrA     1387 non-null   float64\n",
      " 23  ScrUA    1387 non-null   float64\n",
      " 24  ScrDA    1387 non-null   float64\n",
      " 25  PixA     1387 non-null   float64\n",
      " 26  WinA     1387 non-null   float64\n",
      " 27  ChgeA    1387 non-null   float64\n",
      " 28  KeySD    1387 non-null   float64\n",
      " 29  BackSD   1387 non-null   float64\n",
      " 30  DelSD    1387 non-null   float64\n",
      " 31  EntSD    1387 non-null   float64\n",
      " 32  SpbSD    1387 non-null   float64\n",
      " 33  ClicSD   1387 non-null   float64\n",
      " 34  LClicSD  1387 non-null   float64\n",
      " 35  RClicSD  1387 non-null   float64\n",
      " 36  ScrSD    1387 non-null   float64\n",
      " 37  ScrUSD   1387 non-null   float64\n",
      " 38  ScrDSD   1387 non-null   float64\n",
      " 39  PixSD    1387 non-null   float64\n",
      " 40  WinSD    1387 non-null   float64\n",
      " 41  ChgeSD   1387 non-null   float64\n",
      " 42  Job      1387 non-null   float64\n",
      " 43  Mail     1387 non-null   float64\n",
      " 44  Brow     1387 non-null   float64\n",
      " 45  Com      1387 non-null   float64\n",
      " 46  Pers     1387 non-null   float64\n",
      " 47  NoCat    1387 non-null   float64\n",
      " 48  StpT     1387 non-null   int64  \n",
      " 49  DistT    1387 non-null   float64\n",
      " 50  FloT     1387 non-null   int64  \n",
      " 51  HRA      1387 non-null   float64\n",
      " 52  StpA     1387 non-null   float64\n",
      " 53  DistA    1387 non-null   float64\n",
      " 54  FloA     1387 non-null   float64\n",
      " 55  HRSD     1387 non-null   float64\n",
      " 56  StpSD    1387 non-null   float64\n",
      " 57  DistSD   1387 non-null   float64\n",
      " 58  FloSD    1387 non-null   float64\n",
      " 59  clase    1387 non-null   object \n",
      "dtypes: float64(43), int64(16), object(1)\n",
      "memory usage: 650.3+ KB\n"
     ]
    }
   ],
   "source": [
    "ds.info()"
   ]
  },
  {
   "cell_type": "code",
   "execution_count": 4,
   "id": "51308084",
   "metadata": {},
   "outputs": [
    {
     "data": {
      "text/plain": [
       "(1387, 59)"
      ]
     },
     "execution_count": 4,
     "metadata": {},
     "output_type": "execute_result"
    }
   ],
   "source": [
    "X = ds.drop('clase', axis=1)\n",
    "X.shape"
   ]
  },
  {
   "cell_type": "code",
   "execution_count": 5,
   "id": "59d78e0e",
   "metadata": {},
   "outputs": [
    {
     "data": {
      "text/plain": [
       "(1387,)"
      ]
     },
     "execution_count": 5,
     "metadata": {},
     "output_type": "execute_result"
    }
   ],
   "source": [
    "y = ds['clase']\n",
    "y.shape"
   ]
  },
  {
   "cell_type": "code",
   "execution_count": 6,
   "id": "0456c22c",
   "metadata": {},
   "outputs": [
    {
     "data": {
      "text/plain": [
       "clase\n",
       "Low       822\n",
       "Medium    334\n",
       "High      231\n",
       "Name: count, dtype: int64"
      ]
     },
     "execution_count": 6,
     "metadata": {},
     "output_type": "execute_result"
    }
   ],
   "source": [
    "y.value_counts()"
   ]
  },
  {
   "cell_type": "code",
   "execution_count": 7,
   "id": "6abefbb8",
   "metadata": {},
   "outputs": [
    {
     "data": {
      "text/plain": [
       "Counter({'Low': 822, 'Medium': 334, 'High': 231})"
      ]
     },
     "execution_count": 7,
     "metadata": {},
     "output_type": "execute_result"
    }
   ],
   "source": [
    "Counter(y)"
   ]
  },
  {
   "cell_type": "markdown",
   "id": "8a694ed6",
   "metadata": {},
   "source": [
    "# kNN"
   ]
  },
  {
   "cell_type": "code",
   "execution_count": 8,
   "id": "f0b89f42",
   "metadata": {},
   "outputs": [],
   "source": [
    "clf = KNeighborsClassifier()"
   ]
  },
  {
   "cell_type": "markdown",
   "id": "ff5afea8",
   "metadata": {},
   "source": [
    "Preprocesamiento"
   ]
  },
  {
   "cell_type": "code",
   "execution_count": 9,
   "id": "437eb468",
   "metadata": {},
   "outputs": [],
   "source": [
    "#prep1 = StandardScaler() \n",
    "prep2 = Normalizer() "
   ]
  },
  {
   "cell_type": "markdown",
   "id": "bd0ff5a2",
   "metadata": {},
   "source": [
    "Balanceo de clases"
   ]
  },
  {
   "cell_type": "code",
   "execution_count": 10,
   "id": "302dce93",
   "metadata": {},
   "outputs": [],
   "source": [
    "smt1 = SMOTE(sampling_strategy='auto',n_jobs=-1,random_state=42)\n",
    "smt2 = BorderlineSMOTE(sampling_strategy='auto',n_jobs=-1,random_state=42)"
   ]
  },
  {
   "cell_type": "markdown",
   "id": "4dada2b4",
   "metadata": {},
   "source": [
    "Feature selection"
   ]
  },
  {
   "cell_type": "code",
   "execution_count": 11,
   "id": "593e5f4b",
   "metadata": {},
   "outputs": [],
   "source": [
    "#fs1 = SelectKBest()\n",
    "fs2 = RFE(RandomForestClassifier())\n",
    "#fs3 = SelectFromModel(clf)"
   ]
  },
  {
   "cell_type": "markdown",
   "id": "b676c6d2",
   "metadata": {},
   "source": [
    "Pipelines"
   ]
  },
  {
   "cell_type": "code",
   "execution_count": 12,
   "id": "85470338",
   "metadata": {},
   "outputs": [],
   "source": [
    "#smt + clf\n",
    "pipeline01 = imbpipeline([('prep', prep2), ('smote', smt1), ('fs', fs2), ('classifier', clf)])\n",
    "pipeline02 = imbpipeline([('prep', prep2), ('smote', smt2), ('fs', fs2), ('classifier', clf)])\n"
   ]
  },
  {
   "cell_type": "markdown",
   "id": "550c7985",
   "metadata": {},
   "source": [
    "Parameters"
   ]
  },
  {
   "cell_type": "code",
   "execution_count": 13,
   "id": "bea0e447",
   "metadata": {},
   "outputs": [],
   "source": [
    "#Hyper-parameter tuning\n",
    "#SMOTE\n",
    "params01_01 = {}\n",
    "params01_01['smote__k_neighbors'] =  [3]#[3, 5, 7]\n",
    "params01_01['fs__n_features_to_select'] = [55]#range(55, 59)\n",
    "params01_01['classifier__n_neighbors'] = [3]#[3,5,7]\n",
    "params01_01['classifier__weights'] = ['uniform']#,'distance']\n",
    "params01_01['classifier__algorithm'] = ['ball_tree']#,'kd_tree','brute']\n",
    "params01_01['classifier__metric'] = ['minkowski']#,'euclidean','manhattan']\n",
    "params01_01['classifier'] = [clf]\n",
    "\n",
    "params01_02 = {}\n",
    "params01_02['smote__k_neighbors'] =  [9]#[9, 11, 13]\n",
    "params01_02['fs__n_features_to_select'] = [55]#range(55, 59)\n",
    "params01_02['classifier__n_neighbors'] = [7]#[3,5,7]\n",
    "params01_02['classifier__weights'] = ['distance']#['uniform','distance']\n",
    "params01_02['classifier__algorithm'] = ['ball_tree']#['ball_tree','kd_tree','brute']\n",
    "params01_02['classifier__metric'] = ['manhattan']#['minkowski','euclidean','manhattan']\n",
    "params01_02['classifier'] = [clf]\n",
    "\n",
    "#BordelineSMOTE\n",
    "params02_01 = {}\n",
    "params02_01['smote__k_neighbors'] =  [3, 5, 7]\n",
    "params02_01['smote__m_neighbors'] = [3, 5, 7]\n",
    "params02_01['smote__kind'] = ['borderline-1','borderline-2']\n",
    "params02_01['fs__n_features_to_select'] = range(55, 59)\n",
    "params02_01['classifier__n_neighbors'] = [3,5,7]\n",
    "params02_01['classifier__weights'] = ['uniform','distance']\n",
    "params02_01['classifier__algorithm'] = ['ball_tree','kd_tree','brute']\n",
    "params02_01['classifier__metric'] = ['minkowski','euclidean','manhattan']\n",
    "params02_01['classifier'] = [clf]\n",
    "\n",
    "params02_02 = {}\n",
    "params02_02['smote__k_neighbors'] =  [9, 11, 13]\n",
    "params02_02['smote__m_neighbors'] = [3, 5, 7]\n",
    "params02_02['smote__kind'] = ['borderline-1','borderline-2']\n",
    "params02_02['fs__n_features_to_select'] = range(55, 59)\n",
    "params02_02['classifier__n_neighbors'] = [3,5,7]\n",
    "params02_02['classifier__weights'] = ['uniform','distance']\n",
    "params02_02['classifier__algorithm'] = ['ball_tree','kd_tree','brute']\n",
    "params02_02['classifier__metric'] = ['minkowski','euclidean','manhattan']\n",
    "params02_02['classifier'] = [clf]\n",
    "\n",
    "params02_03 = {}\n",
    "params02_03['smote__k_neighbors'] =  [3, 5, 7]\n",
    "params02_03['smote__m_neighbors'] = [9, 10, 11]\n",
    "params02_03['smote__kind'] = ['borderline-1','borderline-2']\n",
    "params02_03['fs__n_features_to_select'] = range(55, 59)\n",
    "params02_03['classifier__n_neighbors'] = [3,5,7]\n",
    "params02_03['classifier__weights'] = ['uniform','distance']\n",
    "params02_03['classifier__algorithm'] = ['ball_tree','kd_tree','brute']\n",
    "params02_03['classifier__metric'] = ['minkowski','euclidean','manhattan']\n",
    "params02_03['classifier'] = [clf]\n",
    "\n",
    "params02_04 = {}\n",
    "params02_04['smote__k_neighbors'] =  [9, 11, 13]\n",
    "params02_04['smote__m_neighbors'] = [9, 10, 11]\n",
    "params02_04['smote__kind'] = ['borderline-1','borderline-2']\n",
    "params02_04['fs__n_features_to_select'] = range(55, 59)\n",
    "params02_04['classifier__n_neighbors'] = [3,5,7]\n",
    "params02_04['classifier__weights'] = ['uniform','distance']\n",
    "params02_04['classifier__algorithm'] = ['ball_tree','kd_tree','brute']\n",
    "params02_04['classifier__metric'] = ['minkowski','euclidean','manhattan']\n",
    "params02_04['classifier'] = [clf]\n",
    "\n",
    "\n"
   ]
  },
  {
   "cell_type": "code",
   "execution_count": 14,
   "id": "9540be61",
   "metadata": {},
   "outputs": [],
   "source": [
    "#Aqui es donde hay que cambiarle manualmente los datos\n",
    "# pipeline01, luego pipeline02\n",
    "#al igual en params y file2\n",
    "\n",
    "pipeline = pipeline02\n",
    "params = params01_02\n",
    "file1='kNN06-test-'\n",
    "file2='params01_02_'\n",
    "file3='v24.csv'"
   ]
  },
  {
   "cell_type": "markdown",
   "id": "86aa8cfe",
   "metadata": {},
   "source": [
    "CV"
   ]
  },
  {
   "cell_type": "code",
   "execution_count": 15,
   "id": "391a8e4b",
   "metadata": {},
   "outputs": [],
   "source": [
    "cv=RepeatedStratifiedKFold(n_splits=10, n_repeats=10,random_state=42)\n",
    "scoring=['accuracy', 'precision_weighted', 'recall_weighted', 'f1_weighted']"
   ]
  },
  {
   "cell_type": "markdown",
   "id": "2d9c1d9f",
   "metadata": {},
   "source": [
    "# GridSearchCV"
   ]
  },
  {
   "cell_type": "code",
   "execution_count": 16,
   "id": "29d98d79",
   "metadata": {
    "scrolled": true
   },
   "outputs": [
    {
     "name": "stdout",
     "output_type": "stream",
     "text": [
      "Ini:  2024-07-11 12:21:47.279558  \n",
      "Fitting 100 folds for each of 1 candidates, totalling 100 fits\n",
      "[CV 1/100] END classifier=KNeighborsClassifier(), classifier__algorithm=ball_tree, classifier__metric=manhattan, classifier__n_neighbors=7, classifier__weights=distance, fs__n_features_to_select=55, smote__k_neighbors=9; accuracy: (test=0.511) f1_weighted: (test=0.524) precision_weighted: (test=0.559) recall_weighted: (test=0.511) total time=   5.7s\n",
      "[CV 2/100] END classifier=KNeighborsClassifier(), classifier__algorithm=ball_tree, classifier__metric=manhattan, classifier__n_neighbors=7, classifier__weights=distance, fs__n_features_to_select=55, smote__k_neighbors=9; accuracy: (test=0.446) f1_weighted: (test=0.474) precision_weighted: (test=0.528) recall_weighted: (test=0.446) total time=   5.3s\n",
      "[CV 3/100] END classifier=KNeighborsClassifier(), classifier__algorithm=ball_tree, classifier__metric=manhattan, classifier__n_neighbors=7, classifier__weights=distance, fs__n_features_to_select=55, smote__k_neighbors=9; accuracy: (test=0.460) f1_weighted: (test=0.485) precision_weighted: (test=0.585) recall_weighted: (test=0.460) total time=   5.3s\n",
      "[CV 4/100] END classifier=KNeighborsClassifier(), classifier__algorithm=ball_tree, classifier__metric=manhattan, classifier__n_neighbors=7, classifier__weights=distance, fs__n_features_to_select=55, smote__k_neighbors=9; accuracy: (test=0.489) f1_weighted: (test=0.503) precision_weighted: (test=0.553) recall_weighted: (test=0.489) total time=   5.1s\n",
      "[CV 5/100] END classifier=KNeighborsClassifier(), classifier__algorithm=ball_tree, classifier__metric=manhattan, classifier__n_neighbors=7, classifier__weights=distance, fs__n_features_to_select=55, smote__k_neighbors=9; accuracy: (test=0.439) f1_weighted: (test=0.464) precision_weighted: (test=0.511) recall_weighted: (test=0.439) total time=   5.4s\n",
      "[CV 6/100] END classifier=KNeighborsClassifier(), classifier__algorithm=ball_tree, classifier__metric=manhattan, classifier__n_neighbors=7, classifier__weights=distance, fs__n_features_to_select=55, smote__k_neighbors=9; accuracy: (test=0.367) f1_weighted: (test=0.390) precision_weighted: (test=0.486) recall_weighted: (test=0.367) total time=   5.4s\n",
      "[CV 7/100] END classifier=KNeighborsClassifier(), classifier__algorithm=ball_tree, classifier__metric=manhattan, classifier__n_neighbors=7, classifier__weights=distance, fs__n_features_to_select=55, smote__k_neighbors=9; accuracy: (test=0.446) f1_weighted: (test=0.464) precision_weighted: (test=0.533) recall_weighted: (test=0.446) total time=   5.2s\n",
      "[CV 8/100] END classifier=KNeighborsClassifier(), classifier__algorithm=ball_tree, classifier__metric=manhattan, classifier__n_neighbors=7, classifier__weights=distance, fs__n_features_to_select=55, smote__k_neighbors=9; accuracy: (test=0.341) f1_weighted: (test=0.360) precision_weighted: (test=0.421) recall_weighted: (test=0.341) total time=   5.4s\n",
      "[CV 9/100] END classifier=KNeighborsClassifier(), classifier__algorithm=ball_tree, classifier__metric=manhattan, classifier__n_neighbors=7, classifier__weights=distance, fs__n_features_to_select=55, smote__k_neighbors=9; accuracy: (test=0.449) f1_weighted: (test=0.469) precision_weighted: (test=0.528) recall_weighted: (test=0.449) total time=   5.3s\n",
      "[CV 10/100] END classifier=KNeighborsClassifier(), classifier__algorithm=ball_tree, classifier__metric=manhattan, classifier__n_neighbors=7, classifier__weights=distance, fs__n_features_to_select=55, smote__k_neighbors=9; accuracy: (test=0.449) f1_weighted: (test=0.470) precision_weighted: (test=0.557) recall_weighted: (test=0.449) total time=   5.5s\n",
      "[CV 11/100] END classifier=KNeighborsClassifier(), classifier__algorithm=ball_tree, classifier__metric=manhattan, classifier__n_neighbors=7, classifier__weights=distance, fs__n_features_to_select=55, smote__k_neighbors=9; accuracy: (test=0.403) f1_weighted: (test=0.429) precision_weighted: (test=0.496) recall_weighted: (test=0.403) total time=   5.4s\n",
      "[CV 12/100] END classifier=KNeighborsClassifier(), classifier__algorithm=ball_tree, classifier__metric=manhattan, classifier__n_neighbors=7, classifier__weights=distance, fs__n_features_to_select=55, smote__k_neighbors=9; accuracy: (test=0.518) f1_weighted: (test=0.535) precision_weighted: (test=0.570) recall_weighted: (test=0.518) total time=   5.4s\n",
      "[CV 13/100] END classifier=KNeighborsClassifier(), classifier__algorithm=ball_tree, classifier__metric=manhattan, classifier__n_neighbors=7, classifier__weights=distance, fs__n_features_to_select=55, smote__k_neighbors=9; accuracy: (test=0.424) f1_weighted: (test=0.448) precision_weighted: (test=0.499) recall_weighted: (test=0.424) total time=   5.4s\n",
      "[CV 14/100] END classifier=KNeighborsClassifier(), classifier__algorithm=ball_tree, classifier__metric=manhattan, classifier__n_neighbors=7, classifier__weights=distance, fs__n_features_to_select=55, smote__k_neighbors=9; accuracy: (test=0.460) f1_weighted: (test=0.474) precision_weighted: (test=0.532) recall_weighted: (test=0.460) total time=   5.3s\n",
      "[CV 15/100] END classifier=KNeighborsClassifier(), classifier__algorithm=ball_tree, classifier__metric=manhattan, classifier__n_neighbors=7, classifier__weights=distance, fs__n_features_to_select=55, smote__k_neighbors=9; accuracy: (test=0.410) f1_weighted: (test=0.435) precision_weighted: (test=0.529) recall_weighted: (test=0.410) total time=   5.3s\n",
      "[CV 16/100] END classifier=KNeighborsClassifier(), classifier__algorithm=ball_tree, classifier__metric=manhattan, classifier__n_neighbors=7, classifier__weights=distance, fs__n_features_to_select=55, smote__k_neighbors=9; accuracy: (test=0.417) f1_weighted: (test=0.434) precision_weighted: (test=0.499) recall_weighted: (test=0.417) total time=   5.5s\n",
      "[CV 17/100] END classifier=KNeighborsClassifier(), classifier__algorithm=ball_tree, classifier__metric=manhattan, classifier__n_neighbors=7, classifier__weights=distance, fs__n_features_to_select=55, smote__k_neighbors=9; accuracy: (test=0.468) f1_weighted: (test=0.480) precision_weighted: (test=0.531) recall_weighted: (test=0.468) total time=   5.3s\n",
      "[CV 18/100] END classifier=KNeighborsClassifier(), classifier__algorithm=ball_tree, classifier__metric=manhattan, classifier__n_neighbors=7, classifier__weights=distance, fs__n_features_to_select=55, smote__k_neighbors=9; accuracy: (test=0.464) f1_weighted: (test=0.480) precision_weighted: (test=0.513) recall_weighted: (test=0.464) total time=   5.4s\n",
      "[CV 19/100] END classifier=KNeighborsClassifier(), classifier__algorithm=ball_tree, classifier__metric=manhattan, classifier__n_neighbors=7, classifier__weights=distance, fs__n_features_to_select=55, smote__k_neighbors=9; accuracy: (test=0.384) f1_weighted: (test=0.399) precision_weighted: (test=0.473) recall_weighted: (test=0.384) total time=   5.3s\n",
      "[CV 20/100] END classifier=KNeighborsClassifier(), classifier__algorithm=ball_tree, classifier__metric=manhattan, classifier__n_neighbors=7, classifier__weights=distance, fs__n_features_to_select=55, smote__k_neighbors=9; accuracy: (test=0.420) f1_weighted: (test=0.441) precision_weighted: (test=0.494) recall_weighted: (test=0.420) total time=   5.3s\n",
      "[CV 21/100] END classifier=KNeighborsClassifier(), classifier__algorithm=ball_tree, classifier__metric=manhattan, classifier__n_neighbors=7, classifier__weights=distance, fs__n_features_to_select=55, smote__k_neighbors=9; accuracy: (test=0.396) f1_weighted: (test=0.408) precision_weighted: (test=0.482) recall_weighted: (test=0.396) total time=   5.2s\n",
      "[CV 22/100] END classifier=KNeighborsClassifier(), classifier__algorithm=ball_tree, classifier__metric=manhattan, classifier__n_neighbors=7, classifier__weights=distance, fs__n_features_to_select=55, smote__k_neighbors=9; accuracy: (test=0.468) f1_weighted: (test=0.482) precision_weighted: (test=0.543) recall_weighted: (test=0.468) total time=   5.3s\n",
      "[CV 23/100] END classifier=KNeighborsClassifier(), classifier__algorithm=ball_tree, classifier__metric=manhattan, classifier__n_neighbors=7, classifier__weights=distance, fs__n_features_to_select=55, smote__k_neighbors=9; accuracy: (test=0.374) f1_weighted: (test=0.405) precision_weighted: (test=0.475) recall_weighted: (test=0.374) total time=   5.3s\n",
      "[CV 24/100] END classifier=KNeighborsClassifier(), classifier__algorithm=ball_tree, classifier__metric=manhattan, classifier__n_neighbors=7, classifier__weights=distance, fs__n_features_to_select=55, smote__k_neighbors=9; accuracy: (test=0.424) f1_weighted: (test=0.450) precision_weighted: (test=0.502) recall_weighted: (test=0.424) total time=   5.4s\n",
      "[CV 25/100] END classifier=KNeighborsClassifier(), classifier__algorithm=ball_tree, classifier__metric=manhattan, classifier__n_neighbors=7, classifier__weights=distance, fs__n_features_to_select=55, smote__k_neighbors=9; accuracy: (test=0.410) f1_weighted: (test=0.431) precision_weighted: (test=0.471) recall_weighted: (test=0.410) total time=   5.3s\n",
      "[CV 26/100] END classifier=KNeighborsClassifier(), classifier__algorithm=ball_tree, classifier__metric=manhattan, classifier__n_neighbors=7, classifier__weights=distance, fs__n_features_to_select=55, smote__k_neighbors=9; accuracy: (test=0.482) f1_weighted: (test=0.503) precision_weighted: (test=0.555) recall_weighted: (test=0.482) total time=   5.2s\n",
      "[CV 27/100] END classifier=KNeighborsClassifier(), classifier__algorithm=ball_tree, classifier__metric=manhattan, classifier__n_neighbors=7, classifier__weights=distance, fs__n_features_to_select=55, smote__k_neighbors=9; accuracy: (test=0.388) f1_weighted: (test=0.404) precision_weighted: (test=0.479) recall_weighted: (test=0.388) total time=   5.3s\n",
      "[CV 28/100] END classifier=KNeighborsClassifier(), classifier__algorithm=ball_tree, classifier__metric=manhattan, classifier__n_neighbors=7, classifier__weights=distance, fs__n_features_to_select=55, smote__k_neighbors=9; accuracy: (test=0.435) f1_weighted: (test=0.459) precision_weighted: (test=0.547) recall_weighted: (test=0.435) total time=   5.6s\n",
      "[CV 29/100] END classifier=KNeighborsClassifier(), classifier__algorithm=ball_tree, classifier__metric=manhattan, classifier__n_neighbors=7, classifier__weights=distance, fs__n_features_to_select=55, smote__k_neighbors=9; accuracy: (test=0.457) f1_weighted: (test=0.485) precision_weighted: (test=0.567) recall_weighted: (test=0.457) total time=   5.4s\n",
      "[CV 30/100] END classifier=KNeighborsClassifier(), classifier__algorithm=ball_tree, classifier__metric=manhattan, classifier__n_neighbors=7, classifier__weights=distance, fs__n_features_to_select=55, smote__k_neighbors=9; accuracy: (test=0.486) f1_weighted: (test=0.492) precision_weighted: (test=0.537) recall_weighted: (test=0.486) total time=   5.5s\n",
      "[CV 31/100] END classifier=KNeighborsClassifier(), classifier__algorithm=ball_tree, classifier__metric=manhattan, classifier__n_neighbors=7, classifier__weights=distance, fs__n_features_to_select=55, smote__k_neighbors=9; accuracy: (test=0.432) f1_weighted: (test=0.454) precision_weighted: (test=0.519) recall_weighted: (test=0.432) total time=   5.3s\n",
      "[CV 32/100] END classifier=KNeighborsClassifier(), classifier__algorithm=ball_tree, classifier__metric=manhattan, classifier__n_neighbors=7, classifier__weights=distance, fs__n_features_to_select=55, smote__k_neighbors=9; accuracy: (test=0.489) f1_weighted: (test=0.511) precision_weighted: (test=0.616) recall_weighted: (test=0.489) total time=   5.5s\n",
      "[CV 33/100] END classifier=KNeighborsClassifier(), classifier__algorithm=ball_tree, classifier__metric=manhattan, classifier__n_neighbors=7, classifier__weights=distance, fs__n_features_to_select=55, smote__k_neighbors=9; accuracy: (test=0.417) f1_weighted: (test=0.432) precision_weighted: (test=0.484) recall_weighted: (test=0.417) total time=   5.8s\n",
      "[CV 34/100] END classifier=KNeighborsClassifier(), classifier__algorithm=ball_tree, classifier__metric=manhattan, classifier__n_neighbors=7, classifier__weights=distance, fs__n_features_to_select=55, smote__k_neighbors=9; accuracy: (test=0.446) f1_weighted: (test=0.470) precision_weighted: (test=0.517) recall_weighted: (test=0.446) total time=   5.3s\n",
      "[CV 35/100] END classifier=KNeighborsClassifier(), classifier__algorithm=ball_tree, classifier__metric=manhattan, classifier__n_neighbors=7, classifier__weights=distance, fs__n_features_to_select=55, smote__k_neighbors=9; accuracy: (test=0.410) f1_weighted: (test=0.437) precision_weighted: (test=0.524) recall_weighted: (test=0.410) total time=   5.8s\n",
      "[CV 36/100] END classifier=KNeighborsClassifier(), classifier__algorithm=ball_tree, classifier__metric=manhattan, classifier__n_neighbors=7, classifier__weights=distance, fs__n_features_to_select=55, smote__k_neighbors=9; accuracy: (test=0.482) f1_weighted: (test=0.499) precision_weighted: (test=0.534) recall_weighted: (test=0.482) total time=   5.5s\n",
      "[CV 37/100] END classifier=KNeighborsClassifier(), classifier__algorithm=ball_tree, classifier__metric=manhattan, classifier__n_neighbors=7, classifier__weights=distance, fs__n_features_to_select=55, smote__k_neighbors=9; accuracy: (test=0.424) f1_weighted: (test=0.437) precision_weighted: (test=0.488) recall_weighted: (test=0.424) total time=   5.4s\n",
      "[CV 38/100] END classifier=KNeighborsClassifier(), classifier__algorithm=ball_tree, classifier__metric=manhattan, classifier__n_neighbors=7, classifier__weights=distance, fs__n_features_to_select=55, smote__k_neighbors=9; accuracy: (test=0.362) f1_weighted: (test=0.389) precision_weighted: (test=0.474) recall_weighted: (test=0.362) total time=   5.3s\n",
      "[CV 39/100] END classifier=KNeighborsClassifier(), classifier__algorithm=ball_tree, classifier__metric=manhattan, classifier__n_neighbors=7, classifier__weights=distance, fs__n_features_to_select=55, smote__k_neighbors=9; accuracy: (test=0.442) f1_weighted: (test=0.462) precision_weighted: (test=0.530) recall_weighted: (test=0.442) total time=   5.2s\n",
      "[CV 40/100] END classifier=KNeighborsClassifier(), classifier__algorithm=ball_tree, classifier__metric=manhattan, classifier__n_neighbors=7, classifier__weights=distance, fs__n_features_to_select=55, smote__k_neighbors=9; accuracy: (test=0.428) f1_weighted: (test=0.451) precision_weighted: (test=0.492) recall_weighted: (test=0.428) total time=   5.2s\n",
      "[CV 41/100] END classifier=KNeighborsClassifier(), classifier__algorithm=ball_tree, classifier__metric=manhattan, classifier__n_neighbors=7, classifier__weights=distance, fs__n_features_to_select=55, smote__k_neighbors=9; accuracy: (test=0.432) f1_weighted: (test=0.460) precision_weighted: (test=0.541) recall_weighted: (test=0.432) total time=   5.4s\n",
      "[CV 42/100] END classifier=KNeighborsClassifier(), classifier__algorithm=ball_tree, classifier__metric=manhattan, classifier__n_neighbors=7, classifier__weights=distance, fs__n_features_to_select=55, smote__k_neighbors=9; accuracy: (test=0.353) f1_weighted: (test=0.374) precision_weighted: (test=0.458) recall_weighted: (test=0.353) total time=   5.4s\n",
      "[CV 43/100] END classifier=KNeighborsClassifier(), classifier__algorithm=ball_tree, classifier__metric=manhattan, classifier__n_neighbors=7, classifier__weights=distance, fs__n_features_to_select=55, smote__k_neighbors=9; accuracy: (test=0.453) f1_weighted: (test=0.473) precision_weighted: (test=0.536) recall_weighted: (test=0.453) total time=   5.3s\n",
      "[CV 44/100] END classifier=KNeighborsClassifier(), classifier__algorithm=ball_tree, classifier__metric=manhattan, classifier__n_neighbors=7, classifier__weights=distance, fs__n_features_to_select=55, smote__k_neighbors=9; accuracy: (test=0.424) f1_weighted: (test=0.444) precision_weighted: (test=0.510) recall_weighted: (test=0.424) total time=   5.3s\n",
      "[CV 45/100] END classifier=KNeighborsClassifier(), classifier__algorithm=ball_tree, classifier__metric=manhattan, classifier__n_neighbors=7, classifier__weights=distance, fs__n_features_to_select=55, smote__k_neighbors=9; accuracy: (test=0.518) f1_weighted: (test=0.531) precision_weighted: (test=0.552) recall_weighted: (test=0.518) total time=   5.4s\n",
      "[CV 46/100] END classifier=KNeighborsClassifier(), classifier__algorithm=ball_tree, classifier__metric=manhattan, classifier__n_neighbors=7, classifier__weights=distance, fs__n_features_to_select=55, smote__k_neighbors=9; accuracy: (test=0.424) f1_weighted: (test=0.437) precision_weighted: (test=0.480) recall_weighted: (test=0.424) total time=   5.5s\n",
      "[CV 47/100] END classifier=KNeighborsClassifier(), classifier__algorithm=ball_tree, classifier__metric=manhattan, classifier__n_neighbors=7, classifier__weights=distance, fs__n_features_to_select=55, smote__k_neighbors=9; accuracy: (test=0.460) f1_weighted: (test=0.476) precision_weighted: (test=0.517) recall_weighted: (test=0.460) total time=   5.2s\n",
      "[CV 48/100] END classifier=KNeighborsClassifier(), classifier__algorithm=ball_tree, classifier__metric=manhattan, classifier__n_neighbors=7, classifier__weights=distance, fs__n_features_to_select=55, smote__k_neighbors=9; accuracy: (test=0.464) f1_weighted: (test=0.487) precision_weighted: (test=0.546) recall_weighted: (test=0.464) total time=   5.4s\n",
      "[CV 49/100] END classifier=KNeighborsClassifier(), classifier__algorithm=ball_tree, classifier__metric=manhattan, classifier__n_neighbors=7, classifier__weights=distance, fs__n_features_to_select=55, smote__k_neighbors=9; accuracy: (test=0.435) f1_weighted: (test=0.455) precision_weighted: (test=0.516) recall_weighted: (test=0.435) total time=   5.4s\n",
      "[CV 50/100] END classifier=KNeighborsClassifier(), classifier__algorithm=ball_tree, classifier__metric=manhattan, classifier__n_neighbors=7, classifier__weights=distance, fs__n_features_to_select=55, smote__k_neighbors=9; accuracy: (test=0.420) f1_weighted: (test=0.444) precision_weighted: (test=0.515) recall_weighted: (test=0.420) total time=   5.4s\n",
      "[CV 51/100] END classifier=KNeighborsClassifier(), classifier__algorithm=ball_tree, classifier__metric=manhattan, classifier__n_neighbors=7, classifier__weights=distance, fs__n_features_to_select=55, smote__k_neighbors=9; accuracy: (test=0.518) f1_weighted: (test=0.538) precision_weighted: (test=0.580) recall_weighted: (test=0.518) total time=   5.2s\n",
      "[CV 52/100] END classifier=KNeighborsClassifier(), classifier__algorithm=ball_tree, classifier__metric=manhattan, classifier__n_neighbors=7, classifier__weights=distance, fs__n_features_to_select=55, smote__k_neighbors=9; accuracy: (test=0.360) f1_weighted: (test=0.393) precision_weighted: (test=0.479) recall_weighted: (test=0.360) total time=   5.9s\n",
      "[CV 53/100] END classifier=KNeighborsClassifier(), classifier__algorithm=ball_tree, classifier__metric=manhattan, classifier__n_neighbors=7, classifier__weights=distance, fs__n_features_to_select=55, smote__k_neighbors=9; accuracy: (test=0.496) f1_weighted: (test=0.514) precision_weighted: (test=0.556) recall_weighted: (test=0.496) total time=   5.5s\n",
      "[CV 54/100] END classifier=KNeighborsClassifier(), classifier__algorithm=ball_tree, classifier__metric=manhattan, classifier__n_neighbors=7, classifier__weights=distance, fs__n_features_to_select=55, smote__k_neighbors=9; accuracy: (test=0.432) f1_weighted: (test=0.442) precision_weighted: (test=0.505) recall_weighted: (test=0.432) total time=   6.0s\n",
      "[CV 55/100] END classifier=KNeighborsClassifier(), classifier__algorithm=ball_tree, classifier__metric=manhattan, classifier__n_neighbors=7, classifier__weights=distance, fs__n_features_to_select=55, smote__k_neighbors=9; accuracy: (test=0.446) f1_weighted: (test=0.465) precision_weighted: (test=0.536) recall_weighted: (test=0.446) total time=   5.6s\n",
      "[CV 56/100] END classifier=KNeighborsClassifier(), classifier__algorithm=ball_tree, classifier__metric=manhattan, classifier__n_neighbors=7, classifier__weights=distance, fs__n_features_to_select=55, smote__k_neighbors=9; accuracy: (test=0.439) f1_weighted: (test=0.462) precision_weighted: (test=0.543) recall_weighted: (test=0.439) total time=   5.1s\n",
      "[CV 57/100] END classifier=KNeighborsClassifier(), classifier__algorithm=ball_tree, classifier__metric=manhattan, classifier__n_neighbors=7, classifier__weights=distance, fs__n_features_to_select=55, smote__k_neighbors=9; accuracy: (test=0.388) f1_weighted: (test=0.410) precision_weighted: (test=0.479) recall_weighted: (test=0.388) total time=   5.4s\n",
      "[CV 58/100] END classifier=KNeighborsClassifier(), classifier__algorithm=ball_tree, classifier__metric=manhattan, classifier__n_neighbors=7, classifier__weights=distance, fs__n_features_to_select=55, smote__k_neighbors=9; accuracy: (test=0.435) f1_weighted: (test=0.455) precision_weighted: (test=0.504) recall_weighted: (test=0.435) total time=   5.3s\n",
      "[CV 59/100] END classifier=KNeighborsClassifier(), classifier__algorithm=ball_tree, classifier__metric=manhattan, classifier__n_neighbors=7, classifier__weights=distance, fs__n_features_to_select=55, smote__k_neighbors=9; accuracy: (test=0.457) f1_weighted: (test=0.480) precision_weighted: (test=0.588) recall_weighted: (test=0.457) total time=   5.3s\n",
      "[CV 60/100] END classifier=KNeighborsClassifier(), classifier__algorithm=ball_tree, classifier__metric=manhattan, classifier__n_neighbors=7, classifier__weights=distance, fs__n_features_to_select=55, smote__k_neighbors=9; accuracy: (test=0.413) f1_weighted: (test=0.435) precision_weighted: (test=0.490) recall_weighted: (test=0.413) total time=   5.3s\n",
      "[CV 61/100] END classifier=KNeighborsClassifier(), classifier__algorithm=ball_tree, classifier__metric=manhattan, classifier__n_neighbors=7, classifier__weights=distance, fs__n_features_to_select=55, smote__k_neighbors=9; accuracy: (test=0.439) f1_weighted: (test=0.453) precision_weighted: (test=0.531) recall_weighted: (test=0.439) total time=   5.1s\n",
      "[CV 62/100] END classifier=KNeighborsClassifier(), classifier__algorithm=ball_tree, classifier__metric=manhattan, classifier__n_neighbors=7, classifier__weights=distance, fs__n_features_to_select=55, smote__k_neighbors=9; accuracy: (test=0.439) f1_weighted: (test=0.456) precision_weighted: (test=0.559) recall_weighted: (test=0.439) total time=   5.9s\n",
      "[CV 63/100] END classifier=KNeighborsClassifier(), classifier__algorithm=ball_tree, classifier__metric=manhattan, classifier__n_neighbors=7, classifier__weights=distance, fs__n_features_to_select=55, smote__k_neighbors=9; accuracy: (test=0.547) f1_weighted: (test=0.565) precision_weighted: (test=0.599) recall_weighted: (test=0.547) total time=   5.3s\n",
      "[CV 64/100] END classifier=KNeighborsClassifier(), classifier__algorithm=ball_tree, classifier__metric=manhattan, classifier__n_neighbors=7, classifier__weights=distance, fs__n_features_to_select=55, smote__k_neighbors=9; accuracy: (test=0.410) f1_weighted: (test=0.418) precision_weighted: (test=0.458) recall_weighted: (test=0.410) total time=   5.4s\n",
      "[CV 65/100] END classifier=KNeighborsClassifier(), classifier__algorithm=ball_tree, classifier__metric=manhattan, classifier__n_neighbors=7, classifier__weights=distance, fs__n_features_to_select=55, smote__k_neighbors=9; accuracy: (test=0.432) f1_weighted: (test=0.459) precision_weighted: (test=0.538) recall_weighted: (test=0.432) total time=   5.4s\n",
      "[CV 66/100] END classifier=KNeighborsClassifier(), classifier__algorithm=ball_tree, classifier__metric=manhattan, classifier__n_neighbors=7, classifier__weights=distance, fs__n_features_to_select=55, smote__k_neighbors=9; accuracy: (test=0.439) f1_weighted: (test=0.457) precision_weighted: (test=0.531) recall_weighted: (test=0.439) total time=   5.4s\n",
      "[CV 67/100] END classifier=KNeighborsClassifier(), classifier__algorithm=ball_tree, classifier__metric=manhattan, classifier__n_neighbors=7, classifier__weights=distance, fs__n_features_to_select=55, smote__k_neighbors=9; accuracy: (test=0.424) f1_weighted: (test=0.445) precision_weighted: (test=0.513) recall_weighted: (test=0.424) total time=   5.3s\n",
      "[CV 68/100] END classifier=KNeighborsClassifier(), classifier__algorithm=ball_tree, classifier__metric=manhattan, classifier__n_neighbors=7, classifier__weights=distance, fs__n_features_to_select=55, smote__k_neighbors=9; accuracy: (test=0.428) f1_weighted: (test=0.455) precision_weighted: (test=0.511) recall_weighted: (test=0.428) total time=   5.3s\n",
      "[CV 69/100] END classifier=KNeighborsClassifier(), classifier__algorithm=ball_tree, classifier__metric=manhattan, classifier__n_neighbors=7, classifier__weights=distance, fs__n_features_to_select=55, smote__k_neighbors=9; accuracy: (test=0.413) f1_weighted: (test=0.436) precision_weighted: (test=0.505) recall_weighted: (test=0.413) total time=   5.3s\n",
      "[CV 70/100] END classifier=KNeighborsClassifier(), classifier__algorithm=ball_tree, classifier__metric=manhattan, classifier__n_neighbors=7, classifier__weights=distance, fs__n_features_to_select=55, smote__k_neighbors=9; accuracy: (test=0.500) f1_weighted: (test=0.515) precision_weighted: (test=0.541) recall_weighted: (test=0.500) total time=   5.2s\n",
      "[CV 71/100] END classifier=KNeighborsClassifier(), classifier__algorithm=ball_tree, classifier__metric=manhattan, classifier__n_neighbors=7, classifier__weights=distance, fs__n_features_to_select=55, smote__k_neighbors=9; accuracy: (test=0.496) f1_weighted: (test=0.519) precision_weighted: (test=0.576) recall_weighted: (test=0.496) total time=   5.3s\n",
      "[CV 72/100] END classifier=KNeighborsClassifier(), classifier__algorithm=ball_tree, classifier__metric=manhattan, classifier__n_neighbors=7, classifier__weights=distance, fs__n_features_to_select=55, smote__k_neighbors=9; accuracy: (test=0.381) f1_weighted: (test=0.396) precision_weighted: (test=0.460) recall_weighted: (test=0.381) total time=   5.4s\n",
      "[CV 73/100] END classifier=KNeighborsClassifier(), classifier__algorithm=ball_tree, classifier__metric=manhattan, classifier__n_neighbors=7, classifier__weights=distance, fs__n_features_to_select=55, smote__k_neighbors=9; accuracy: (test=0.403) f1_weighted: (test=0.427) precision_weighted: (test=0.513) recall_weighted: (test=0.403) total time=   5.4s\n",
      "[CV 74/100] END classifier=KNeighborsClassifier(), classifier__algorithm=ball_tree, classifier__metric=manhattan, classifier__n_neighbors=7, classifier__weights=distance, fs__n_features_to_select=55, smote__k_neighbors=9; accuracy: (test=0.439) f1_weighted: (test=0.461) precision_weighted: (test=0.519) recall_weighted: (test=0.439) total time=   5.8s\n",
      "[CV 75/100] END classifier=KNeighborsClassifier(), classifier__algorithm=ball_tree, classifier__metric=manhattan, classifier__n_neighbors=7, classifier__weights=distance, fs__n_features_to_select=55, smote__k_neighbors=9; accuracy: (test=0.453) f1_weighted: (test=0.470) precision_weighted: (test=0.509) recall_weighted: (test=0.453) total time=   5.3s\n",
      "[CV 76/100] END classifier=KNeighborsClassifier(), classifier__algorithm=ball_tree, classifier__metric=manhattan, classifier__n_neighbors=7, classifier__weights=distance, fs__n_features_to_select=55, smote__k_neighbors=9; accuracy: (test=0.410) f1_weighted: (test=0.435) precision_weighted: (test=0.483) recall_weighted: (test=0.410) total time=   5.3s\n",
      "[CV 77/100] END classifier=KNeighborsClassifier(), classifier__algorithm=ball_tree, classifier__metric=manhattan, classifier__n_neighbors=7, classifier__weights=distance, fs__n_features_to_select=55, smote__k_neighbors=9; accuracy: (test=0.453) f1_weighted: (test=0.479) precision_weighted: (test=0.543) recall_weighted: (test=0.453) total time=   5.4s\n",
      "[CV 78/100] END classifier=KNeighborsClassifier(), classifier__algorithm=ball_tree, classifier__metric=manhattan, classifier__n_neighbors=7, classifier__weights=distance, fs__n_features_to_select=55, smote__k_neighbors=9; accuracy: (test=0.420) f1_weighted: (test=0.440) precision_weighted: (test=0.497) recall_weighted: (test=0.420) total time=   5.5s\n",
      "[CV 79/100] END classifier=KNeighborsClassifier(), classifier__algorithm=ball_tree, classifier__metric=manhattan, classifier__n_neighbors=7, classifier__weights=distance, fs__n_features_to_select=55, smote__k_neighbors=9; accuracy: (test=0.435) f1_weighted: (test=0.454) precision_weighted: (test=0.495) recall_weighted: (test=0.435) total time=   5.5s\n",
      "[CV 80/100] END classifier=KNeighborsClassifier(), classifier__algorithm=ball_tree, classifier__metric=manhattan, classifier__n_neighbors=7, classifier__weights=distance, fs__n_features_to_select=55, smote__k_neighbors=9; accuracy: (test=0.370) f1_weighted: (test=0.400) precision_weighted: (test=0.484) recall_weighted: (test=0.370) total time=   5.3s\n",
      "[CV 81/100] END classifier=KNeighborsClassifier(), classifier__algorithm=ball_tree, classifier__metric=manhattan, classifier__n_neighbors=7, classifier__weights=distance, fs__n_features_to_select=55, smote__k_neighbors=9; accuracy: (test=0.468) f1_weighted: (test=0.490) precision_weighted: (test=0.565) recall_weighted: (test=0.468) total time=   5.4s\n",
      "[CV 82/100] END classifier=KNeighborsClassifier(), classifier__algorithm=ball_tree, classifier__metric=manhattan, classifier__n_neighbors=7, classifier__weights=distance, fs__n_features_to_select=55, smote__k_neighbors=9; accuracy: (test=0.475) f1_weighted: (test=0.493) precision_weighted: (test=0.533) recall_weighted: (test=0.475) total time=   5.4s\n",
      "[CV 83/100] END classifier=KNeighborsClassifier(), classifier__algorithm=ball_tree, classifier__metric=manhattan, classifier__n_neighbors=7, classifier__weights=distance, fs__n_features_to_select=55, smote__k_neighbors=9; accuracy: (test=0.439) f1_weighted: (test=0.463) precision_weighted: (test=0.523) recall_weighted: (test=0.439) total time=   5.3s\n",
      "[CV 84/100] END classifier=KNeighborsClassifier(), classifier__algorithm=ball_tree, classifier__metric=manhattan, classifier__n_neighbors=7, classifier__weights=distance, fs__n_features_to_select=55, smote__k_neighbors=9; accuracy: (test=0.410) f1_weighted: (test=0.431) precision_weighted: (test=0.482) recall_weighted: (test=0.410) total time=   5.2s\n",
      "[CV 85/100] END classifier=KNeighborsClassifier(), classifier__algorithm=ball_tree, classifier__metric=manhattan, classifier__n_neighbors=7, classifier__weights=distance, fs__n_features_to_select=55, smote__k_neighbors=9; accuracy: (test=0.439) f1_weighted: (test=0.453) precision_weighted: (test=0.498) recall_weighted: (test=0.439) total time=   5.3s\n",
      "[CV 86/100] END classifier=KNeighborsClassifier(), classifier__algorithm=ball_tree, classifier__metric=manhattan, classifier__n_neighbors=7, classifier__weights=distance, fs__n_features_to_select=55, smote__k_neighbors=9; accuracy: (test=0.381) f1_weighted: (test=0.405) precision_weighted: (test=0.484) recall_weighted: (test=0.381) total time=   5.3s\n",
      "[CV 87/100] END classifier=KNeighborsClassifier(), classifier__algorithm=ball_tree, classifier__metric=manhattan, classifier__n_neighbors=7, classifier__weights=distance, fs__n_features_to_select=55, smote__k_neighbors=9; accuracy: (test=0.439) f1_weighted: (test=0.455) precision_weighted: (test=0.509) recall_weighted: (test=0.439) total time=   5.3s\n",
      "[CV 88/100] END classifier=KNeighborsClassifier(), classifier__algorithm=ball_tree, classifier__metric=manhattan, classifier__n_neighbors=7, classifier__weights=distance, fs__n_features_to_select=55, smote__k_neighbors=9; accuracy: (test=0.464) f1_weighted: (test=0.481) precision_weighted: (test=0.537) recall_weighted: (test=0.464) total time=   5.3s\n",
      "[CV 89/100] END classifier=KNeighborsClassifier(), classifier__algorithm=ball_tree, classifier__metric=manhattan, classifier__n_neighbors=7, classifier__weights=distance, fs__n_features_to_select=55, smote__k_neighbors=9; accuracy: (test=0.413) f1_weighted: (test=0.435) precision_weighted: (test=0.498) recall_weighted: (test=0.413) total time=   5.3s\n",
      "[CV 90/100] END classifier=KNeighborsClassifier(), classifier__algorithm=ball_tree, classifier__metric=manhattan, classifier__n_neighbors=7, classifier__weights=distance, fs__n_features_to_select=55, smote__k_neighbors=9; accuracy: (test=0.435) f1_weighted: (test=0.457) precision_weighted: (test=0.509) recall_weighted: (test=0.435) total time=   5.4s\n",
      "[CV 91/100] END classifier=KNeighborsClassifier(), classifier__algorithm=ball_tree, classifier__metric=manhattan, classifier__n_neighbors=7, classifier__weights=distance, fs__n_features_to_select=55, smote__k_neighbors=9; accuracy: (test=0.374) f1_weighted: (test=0.400) precision_weighted: (test=0.470) recall_weighted: (test=0.374) total time=   5.4s\n",
      "[CV 92/100] END classifier=KNeighborsClassifier(), classifier__algorithm=ball_tree, classifier__metric=manhattan, classifier__n_neighbors=7, classifier__weights=distance, fs__n_features_to_select=55, smote__k_neighbors=9; accuracy: (test=0.432) f1_weighted: (test=0.442) precision_weighted: (test=0.460) recall_weighted: (test=0.432) total time=   5.5s\n",
      "[CV 93/100] END classifier=KNeighborsClassifier(), classifier__algorithm=ball_tree, classifier__metric=manhattan, classifier__n_neighbors=7, classifier__weights=distance, fs__n_features_to_select=55, smote__k_neighbors=9; accuracy: (test=0.403) f1_weighted: (test=0.423) precision_weighted: (test=0.480) recall_weighted: (test=0.403) total time=   5.4s\n",
      "[CV 94/100] END classifier=KNeighborsClassifier(), classifier__algorithm=ball_tree, classifier__metric=manhattan, classifier__n_neighbors=7, classifier__weights=distance, fs__n_features_to_select=55, smote__k_neighbors=9; accuracy: (test=0.439) f1_weighted: (test=0.449) precision_weighted: (test=0.500) recall_weighted: (test=0.439) total time=   5.2s\n",
      "[CV 95/100] END classifier=KNeighborsClassifier(), classifier__algorithm=ball_tree, classifier__metric=manhattan, classifier__n_neighbors=7, classifier__weights=distance, fs__n_features_to_select=55, smote__k_neighbors=9; accuracy: (test=0.417) f1_weighted: (test=0.438) precision_weighted: (test=0.495) recall_weighted: (test=0.417) total time=   5.3s\n",
      "[CV 96/100] END classifier=KNeighborsClassifier(), classifier__algorithm=ball_tree, classifier__metric=manhattan, classifier__n_neighbors=7, classifier__weights=distance, fs__n_features_to_select=55, smote__k_neighbors=9; accuracy: (test=0.396) f1_weighted: (test=0.431) precision_weighted: (test=0.532) recall_weighted: (test=0.396) total time=   5.4s\n",
      "[CV 97/100] END classifier=KNeighborsClassifier(), classifier__algorithm=ball_tree, classifier__metric=manhattan, classifier__n_neighbors=7, classifier__weights=distance, fs__n_features_to_select=55, smote__k_neighbors=9; accuracy: (test=0.446) f1_weighted: (test=0.460) precision_weighted: (test=0.553) recall_weighted: (test=0.446) total time=   5.3s\n",
      "[CV 98/100] END classifier=KNeighborsClassifier(), classifier__algorithm=ball_tree, classifier__metric=manhattan, classifier__n_neighbors=7, classifier__weights=distance, fs__n_features_to_select=55, smote__k_neighbors=9; accuracy: (test=0.478) f1_weighted: (test=0.496) precision_weighted: (test=0.566) recall_weighted: (test=0.478) total time=   5.3s\n",
      "[CV 99/100] END classifier=KNeighborsClassifier(), classifier__algorithm=ball_tree, classifier__metric=manhattan, classifier__n_neighbors=7, classifier__weights=distance, fs__n_features_to_select=55, smote__k_neighbors=9; accuracy: (test=0.449) f1_weighted: (test=0.472) precision_weighted: (test=0.532) recall_weighted: (test=0.449) total time=   5.1s\n",
      "[CV 100/100] END classifier=KNeighborsClassifier(), classifier__algorithm=ball_tree, classifier__metric=manhattan, classifier__n_neighbors=7, classifier__weights=distance, fs__n_features_to_select=55, smote__k_neighbors=9; accuracy: (test=0.420) f1_weighted: (test=0.440) precision_weighted: (test=0.503) recall_weighted: (test=0.420) total time=   5.3s\n",
      "Fin:  2024-07-11 12:30:44.888918  \n"
     ]
    }
   ],
   "source": [
    "ct = datetime.datetime.now()\n",
    "print(\"Ini: \", ct, \" \")\n",
    "grid=GridSearchCV(pipeline, params, cv=cv, scoring=scoring, n_jobs=-1, refit=False, verbose=3)\n",
    "grid.fit(X, y)\n",
    "ct = datetime.datetime.now()\n",
    "print(\"Fin: \", ct, \" \")"
   ]
  },
  {
   "cell_type": "code",
   "execution_count": 17,
   "id": "766f672a",
   "metadata": {},
   "outputs": [
    {
     "data": {
      "text/plain": [
       "(1, 424)"
      ]
     },
     "execution_count": 17,
     "metadata": {},
     "output_type": "execute_result"
    }
   ],
   "source": [
    "results=pd.DataFrame(grid.cv_results_)\n",
    "results.shape"
   ]
  },
  {
   "cell_type": "code",
   "execution_count": 18,
   "id": "bd8ff6e0",
   "metadata": {},
   "outputs": [],
   "source": [
    "results.to_csv(file1+file2+file3, index=False, encoding='utf-8-sig')"
   ]
  },
  {
   "cell_type": "code",
   "execution_count": 19,
   "id": "3fd10308",
   "metadata": {},
   "outputs": [
    {
     "data": {
      "text/plain": [
       "0.4555000627311603"
      ]
     },
     "execution_count": 19,
     "metadata": {},
     "output_type": "execute_result"
    }
   ],
   "source": [
    "# Este es el resultado que hay que anotar en excel\n",
    "results['mean_test_f1_weighted'].max()"
   ]
  },
  {
   "cell_type": "code",
   "execution_count": 20,
   "id": "69a29c7c",
   "metadata": {},
   "outputs": [
    {
     "name": "stdout",
     "output_type": "stream",
     "text": [
      "Finished!\n"
     ]
    }
   ],
   "source": [
    "print(\"Finished!\")"
   ]
  }
 ],
 "metadata": {
  "kernelspec": {
   "display_name": "Python 3 (ipykernel)",
   "language": "python",
   "name": "python3"
  },
  "language_info": {
   "codemirror_mode": {
    "name": "ipython",
    "version": 3
   },
   "file_extension": ".py",
   "mimetype": "text/x-python",
   "name": "python",
   "nbconvert_exporter": "python",
   "pygments_lexer": "ipython3",
   "version": "3.11.7"
  }
 },
 "nbformat": 4,
 "nbformat_minor": 5
}
