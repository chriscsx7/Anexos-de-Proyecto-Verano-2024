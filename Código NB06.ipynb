{
 "cells": [
  {
   "cell_type": "markdown",
   "id": "f29e912e",
   "metadata": {},
   "source": [
    "# NB06 - Normalizer + SMOTE + RFE"
   ]
  },
  {
   "cell_type": "code",
   "execution_count": 1,
   "id": "291d4348",
   "metadata": {},
   "outputs": [],
   "source": [
    "import numpy as np\n",
    "import pandas as pd\n",
    "import sklearn\n",
    "\n",
    "#Model selection\n",
    "from sklearn.model_selection import RepeatedStratifiedKFold\n",
    "from sklearn.model_selection import GridSearchCV\n",
    "\n",
    "#Pipelines\n",
    "from imblearn.pipeline import Pipeline as imbpipeline\n",
    "\n",
    "#Balanceo de clases\n",
    "from imblearn.over_sampling import SMOTE\n",
    "from imblearn.over_sampling import BorderlineSMOTE\n",
    "\n",
    "#Preprocessing\n",
    "from sklearn.preprocessing import StandardScaler, Normalizer\n",
    "\n",
    "#Feature selection\n",
    "from sklearn.feature_selection import SelectFromModel\n",
    "from sklearn.feature_selection import RFE\n",
    "\n",
    "#Classifiers\n",
    "from sklearn.svm import LinearSVC, SVC\n",
    "from sklearn.tree import DecisionTreeClassifier\n",
    "from sklearn.ensemble import RandomForestClassifier, AdaBoostClassifier, ExtraTreesClassifier\n",
    "from sklearn.neighbors import KNeighborsClassifier\n",
    "from sklearn.naive_bayes import GaussianNB\n",
    "from sklearn.linear_model import LogisticRegression\n",
    "\n",
    "#Metrics\n",
    "from sklearn.metrics import accuracy_score\n",
    "from sklearn.metrics import classification_report\n",
    "\n",
    "#Others\n",
    "from collections import Counter\n",
    "import datetime\n",
    "import warnings\n",
    "\n",
    "warnings.filterwarnings('ignore')\n"
   ]
  },
  {
   "cell_type": "markdown",
   "id": "d873facd",
   "metadata": {},
   "source": [
    "# Cargar datos"
   ]
  },
  {
   "cell_type": "code",
   "execution_count": 2,
   "id": "f4c871c7",
   "metadata": {},
   "outputs": [],
   "source": [
    "ds = pd.read_csv('train.csv')\n",
    "#ds.head()"
   ]
  },
  {
   "cell_type": "code",
   "execution_count": null,
   "id": "9f6c5136",
   "metadata": {},
   "outputs": [],
   "source": [
    "#ds.info()"
   ]
  },
  {
   "cell_type": "code",
   "execution_count": 3,
   "id": "51308084",
   "metadata": {},
   "outputs": [
    {
     "data": {
      "text/plain": [
       "(1387, 59)"
      ]
     },
     "execution_count": 3,
     "metadata": {},
     "output_type": "execute_result"
    }
   ],
   "source": [
    "X = ds.drop('clase', axis=1)\n",
    "X.shape"
   ]
  },
  {
   "cell_type": "code",
   "execution_count": 8,
   "id": "59d78e0e",
   "metadata": {},
   "outputs": [],
   "source": [
    "y = ds['clase']\n",
    "#y.value_counts()"
   ]
  },
  {
   "cell_type": "code",
   "execution_count": 9,
   "id": "6abefbb8",
   "metadata": {},
   "outputs": [
    {
     "data": {
      "text/plain": [
       "Counter({'Low': 822, 'Medium': 334, 'High': 231})"
      ]
     },
     "execution_count": 9,
     "metadata": {},
     "output_type": "execute_result"
    }
   ],
   "source": [
    "Counter(y)"
   ]
  },
  {
   "cell_type": "markdown",
   "id": "8a694ed6",
   "metadata": {},
   "source": [
    "# NB"
   ]
  },
  {
   "cell_type": "code",
   "execution_count": null,
   "id": "f0b89f42",
   "metadata": {},
   "outputs": [],
   "source": [
    "clf = GaussianNB()"
   ]
  },
  {
   "cell_type": "markdown",
   "id": "ff5afea8",
   "metadata": {},
   "source": [
    "Preprocesamiento"
   ]
  },
  {
   "cell_type": "code",
   "execution_count": null,
   "id": "437eb468",
   "metadata": {},
   "outputs": [],
   "source": [
    "#prep1 = StandardScaler() \n",
    "prep2 = Normalizer() "
   ]
  },
  {
   "cell_type": "markdown",
   "id": "bd0ff5a2",
   "metadata": {},
   "source": [
    "Balanceo de clases"
   ]
  },
  {
   "cell_type": "code",
   "execution_count": null,
   "id": "302dce93",
   "metadata": {},
   "outputs": [],
   "source": [
    "smt1 = SMOTE(sampling_strategy='auto',random_state=42)\n",
    "smt2 = BorderlineSMOTE(sampling_strategy='auto',random_state=42)"
   ]
  },
  {
   "cell_type": "markdown",
   "id": "4dada2b4",
   "metadata": {},
   "source": [
    "Feature selection"
   ]
  },
  {
   "cell_type": "code",
   "execution_count": null,
   "id": "593e5f4b",
   "metadata": {},
   "outputs": [],
   "source": [
    "#fs1 = SelectKBest()\n",
    "fs2 = RFE(RandomForestClassifier())\n",
    "#fs3 = SelectFromModel(clf)"
   ]
  },
  {
   "cell_type": "markdown",
   "id": "b676c6d2",
   "metadata": {},
   "source": [
    "Pipelines"
   ]
  },
  {
   "cell_type": "code",
   "execution_count": null,
   "id": "85470338",
   "metadata": {},
   "outputs": [],
   "source": [
    "#smt + clf\n",
    "pipeline01 = imbpipeline([('prep', prep2), ('smote', smt1), ('fs', fs2), ('classifier', clf)])\n",
    "pipeline02 = imbpipeline([('prep', prep2), ('smote', smt2), ('fs', fs2), ('classifier', clf)])\n"
   ]
  },
  {
   "cell_type": "markdown",
   "id": "550c7985",
   "metadata": {},
   "source": [
    "Parameters"
   ]
  },
  {
   "cell_type": "code",
   "execution_count": null,
   "id": "bea0e447",
   "metadata": {},
   "outputs": [],
   "source": [
    "\n",
    "#SMOTE\n",
    "params01_01 = {}\n",
    "params01_01['smote__k_neighbors'] =  [5]#, 5, 7]\n",
    "params01_01['fs__n_features_to_select'] = [55]#range(55, 59)\n",
    "params01_01['classifier__var_smoothing'] = [1e-11]#, 1e-10, 1e-9]\n",
    "params01_01['classifier'] = [clf]\n",
    "\n",
    "params01_02 = {}\n",
    "params01_02['smote__k_neighbors'] =  [13]#[9, 11, 13]\n",
    "params01_02['fs__n_features_to_select'] = [55]#range(55, 59)\n",
    "params01_02['classifier__var_smoothing'] = [1e-11]#, 1e-10, 1e-9]\n",
    "params01_02['classifier'] = [clf]\n",
    "\n",
    "#BordelineSMOTE\n",
    "params02_01 = {}\n",
    "params02_01['smote__k_neighbors'] =  [7]#[3, 5, 7]\n",
    "params02_01['smote__m_neighbors'] = [3]#, 5, 7]\n",
    "params02_01['smote__kind'] = ['borderline-2']#['borderline-1','borderline-2']\n",
    "params02_01['fs__n_features_to_select'] = [55]#range(55, 59)\n",
    "params02_01['classifier__var_smoothing'] = [1e-11]#, 1e-10, 1e-9]\n",
    "params02_01['classifier'] = [clf]\n",
    "\n",
    "params02_02 = {}\n",
    "params02_02['smote__k_neighbors'] =  [9]#, 11, 13]\n",
    "params02_02['smote__m_neighbors'] = [3]#, 5, 7]\n",
    "params02_02['smote__kind'] = ['borderline-2']#['borderline-1','borderline-2']\n",
    "params02_02['fs__n_features_to_select'] = [55]#range(55, 59)\n",
    "params02_02['classifier__var_smoothing'] = [1e-11]#, 1e-10, 1e-9]\n",
    "params02_02['classifier'] = [clf]\n",
    "\n",
    "params02_03 = {}\n",
    "params02_03['smote__k_neighbors'] =  [3]#[3, 5, 7]\n",
    "params02_03['smote__m_neighbors'] = [9]#, 10, 11]\n",
    "params02_03['smote__kind'] = ['borderline-1']#['borderline-1','borderline-2']\n",
    "params02_03['fs__n_features_to_select'] = [55]#range(55, 59)\n",
    "params02_03['classifier__var_smoothing'] = [1e-11]#, 1e-10, 1e-9]\n",
    "params02_03['classifier'] = [clf]\n",
    "\n",
    "params02_04 = {}\n",
    "params02_04['smote__k_neighbors'] =  [13]#[9, 11, 13]\n",
    "params02_04['smote__m_neighbors'] = [10]#, 10, 11]\n",
    "params02_04['smote__kind'] = ['borderline-2']#,'borderline-2']\n",
    "params02_04['fs__n_features_to_select'] = [55]#range(55, 59)\n",
    "params02_04['classifier__var_smoothing'] = [1e-11]#, 1e-10, 1e-9]\n",
    "params02_04['classifier'] = [clf]\n",
    "\n",
    "\n"
   ]
  },
  {
   "cell_type": "code",
   "execution_count": null,
   "id": "9540be61",
   "metadata": {},
   "outputs": [],
   "source": [
    "#Aqui es donde hay que cambiarle manualmente los datos\n",
    "# pipeline01, luego pipeline02\n",
    "#al igual en params y file2\n",
    "\n",
    "pipeline = pipeline02\n",
    "params = params02_04\n",
    "file1='NB06-test-'\n",
    "file2='params02_04.csv'"
   ]
  },
  {
   "cell_type": "markdown",
   "id": "86aa8cfe",
   "metadata": {},
   "source": [
    "CV"
   ]
  },
  {
   "cell_type": "code",
   "execution_count": null,
   "id": "391a8e4b",
   "metadata": {},
   "outputs": [],
   "source": [
    "cv=RepeatedStratifiedKFold(n_splits=10, n_repeats=10,random_state=42)\n",
    "scoring=['accuracy', 'precision_weighted', 'recall_weighted', 'f1_weighted']"
   ]
  },
  {
   "cell_type": "markdown",
   "id": "2d9c1d9f",
   "metadata": {},
   "source": [
    "# GridSearchCV"
   ]
  },
  {
   "cell_type": "code",
   "execution_count": null,
   "id": "29d98d79",
   "metadata": {
    "scrolled": true
   },
   "outputs": [],
   "source": [
    "ct = datetime.datetime.now()\n",
    "print(\"Ini: \", ct, \" \")\n",
    "grid=GridSearchCV(pipeline, params, cv=cv, scoring=scoring, n_jobs=-1, refit=False, verbose=3)\n",
    "grid.fit(X, y)\n",
    "ct = datetime.datetime.now()\n",
    "print(\"Fin: \", ct, \" \")"
   ]
  },
  {
   "cell_type": "code",
   "execution_count": null,
   "id": "766f672a",
   "metadata": {},
   "outputs": [],
   "source": [
    "results=pd.DataFrame(grid.cv_results_)\n",
    "results.shape"
   ]
  },
  {
   "cell_type": "code",
   "execution_count": null,
   "id": "bd8ff6e0",
   "metadata": {},
   "outputs": [],
   "source": [
    "results.to_csv(file1+file2, index=False, encoding='utf-8-sig')"
   ]
  },
  {
   "cell_type": "code",
   "execution_count": null,
   "id": "3fd10308",
   "metadata": {},
   "outputs": [],
   "source": [
    "# Este es el resultado que hay que anotar en excel\n",
    "results['mean_test_f1_weighted'].max()"
   ]
  },
  {
   "cell_type": "code",
   "execution_count": null,
   "id": "69a29c7c",
   "metadata": {},
   "outputs": [],
   "source": [
    "print(\"Finished!\")"
   ]
  }
 ],
 "metadata": {
  "kernelspec": {
   "display_name": "Python 3 (ipykernel)",
   "language": "python",
   "name": "python3"
  },
  "language_info": {
   "codemirror_mode": {
    "name": "ipython",
    "version": 3
   },
   "file_extension": ".py",
   "mimetype": "text/x-python",
   "name": "python",
   "nbconvert_exporter": "python",
   "pygments_lexer": "ipython3",
   "version": "3.11.7"
  }
 },
 "nbformat": 4,
 "nbformat_minor": 5
}
